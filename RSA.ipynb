{
 "cells": [
  {
   "cell_type": "code",
   "execution_count": 1,
   "id": "0ad51fb2",
   "metadata": {},
   "outputs": [],
   "source": [
    "def gcd(a, b):\n",
    "    if a == 0:\n",
    "        return b\n",
    "    else:\n",
    "        return gcd(b%a, a)"
   ]
  },
  {
   "cell_type": "code",
   "execution_count": 2,
   "id": "08f2fad1",
   "metadata": {},
   "outputs": [],
   "source": [
    "def mod_pow(p, e, n):\n",
    "    if e == 0:\n",
    "        return 1\n",
    "    \n",
    "    r = mod_pow(p, e//2, n)\n",
    "    r = (r * r) % n\n",
    "    \n",
    "    if e % 2 == 1:\n",
    "        r = (r * p) % n\n",
    "    \n",
    "    return r"
   ]
  },
  {
   "cell_type": "code",
   "execution_count": 3,
   "id": "a24505ea",
   "metadata": {},
   "outputs": [],
   "source": [
    "def generate_key(p, q):\n",
    "    n = p * q\n",
    "    phi_n = (p - 1) * (q - 1)\n",
    "    \n",
    "    #Generate e\n",
    "    e = 2\n",
    "    while e < phi_n:\n",
    "        if gcd(e, phi_n) == 1:\n",
    "            break\n",
    "        e += 1\n",
    "    \n",
    "    #Generate d\n",
    "    k = 1\n",
    "    while (k * phi_n + 1) % e != 0:\n",
    "        k += 1\n",
    "    d = (k * phi_n + 1) // e\n",
    "    \n",
    "    U = [e, n] #Public Key\n",
    "    R = [d, n] #Private Key\n",
    "    \n",
    "    print(\"Prime Numbers: \", p, \" and \", q)\n",
    "    print(\"n (p*q) = \", n)\n",
    "    print(\"phi_n ((p-1)*(q-1)) = \", phi_n)\n",
    "    print(\"Public Key U [e, n] = \", U)\n",
    "    print(\"Private Key R [d, n] = \", R)"
   ]
  },
  {
   "cell_type": "code",
   "execution_count": 4,
   "id": "243559a9",
   "metadata": {},
   "outputs": [
    {
     "name": "stdout",
     "output_type": "stream",
     "text": [
      "Enter 1st Prime: 19\n",
      "Enter 2nd Prime: 23\n",
      "Prime Numbers:  19  and  23\n",
      "n (p*q) =  437\n",
      "phi_n ((p-1)*(q-1)) =  396\n",
      "Public Key U [e, n] =  [5, 437]\n",
      "Private Key R [d, n] =  [317, 437]\n"
     ]
    }
   ],
   "source": [
    "generate_key(\n",
    "    int(input(\"Enter 1st Prime: \")),\n",
    "    int(input(\"Enter 2nd Prime: \"))\n",
    ")"
   ]
  },
  {
   "cell_type": "code",
   "execution_count": 5,
   "id": "18cb732e",
   "metadata": {},
   "outputs": [],
   "source": [
    "def encrypt(P, U):\n",
    "    e, n = U\n",
    "    c = mod_pow(P, e, n)\n",
    "    return c"
   ]
  },
  {
   "cell_type": "code",
   "execution_count": 6,
   "id": "1e248238",
   "metadata": {},
   "outputs": [],
   "source": [
    "def decrypt(C, R):\n",
    "    d, n = R\n",
    "    p = mod_pow(C, d, n)\n",
    "    return p"
   ]
  },
  {
   "cell_type": "code",
   "execution_count": 7,
   "id": "52645b16",
   "metadata": {},
   "outputs": [
    {
     "name": "stdout",
     "output_type": "stream",
     "text": [
      "Enter Plain Text: 83\n",
      "\n",
      "Enter e : 5\n",
      "Enter d : 317\n",
      "Enter n : 437\n",
      "\n",
      "Encrypted Text is :  429\n",
      "Decrypted Text is :  83\n"
     ]
    }
   ],
   "source": [
    "P0 = int(input(\"Enter Plain Text: \"))\n",
    "\n",
    "#Getting Key Features\n",
    "e = int(input(\"\\nEnter e : \"))\n",
    "d = int(input(\"Enter d : \"))\n",
    "n = int(input(\"Enter n : \"))\n",
    "\n",
    "U = [e, n]\n",
    "R = [d, n]\n",
    "\n",
    "c1 = encrypt(P0, U)\n",
    "print(\"\\nEncrypted Text is : \", c1)\n",
    "p1 = decrypt(c1, R)\n",
    "print(\"Decrypted Text is : \", p1)\n",
    "\n",
    "assert(p1 == P0)"
   ]
  }
 ],
 "metadata": {
  "kernelspec": {
   "display_name": "Python 3",
   "language": "python",
   "name": "python3"
  },
  "language_info": {
   "codemirror_mode": {
    "name": "ipython",
    "version": 3
   },
   "file_extension": ".py",
   "mimetype": "text/x-python",
   "name": "python",
   "nbconvert_exporter": "python",
   "pygments_lexer": "ipython3",
   "version": "3.8.8"
  }
 },
 "nbformat": 4,
 "nbformat_minor": 5
}
