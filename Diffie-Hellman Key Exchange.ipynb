{
 "cells": [
  {
   "cell_type": "code",
   "execution_count": 1,
   "id": "d3b66f32",
   "metadata": {},
   "outputs": [],
   "source": [
    "import random"
   ]
  },
  {
   "cell_type": "code",
   "execution_count": 2,
   "id": "72989bd5",
   "metadata": {},
   "outputs": [],
   "source": [
    "def generate(n, g):\n",
    "    print(\"\\nDiffie-Hellman Key Exchange:\\n\")\n",
    "    \n",
    "    print(\"Base: \", n)\n",
    "    print(\"Modulo: \", g)\n",
    "    \n",
    "    #Private Key selection for A and B\n",
    "    a = random.randint(2, 1000)\n",
    "    b = random.randint(2, 1000)\n",
    "    \n",
    "    print(\"\\nPrivate key for A: \", a)\n",
    "    print(\"Private key for B: \", b)\n",
    "    \n",
    "    #Generating Public Key for A and B\n",
    "    Ra = pow(n, a) % g\n",
    "    Rb = pow(n, b) % g\n",
    "    \n",
    "    print(\"\\nPublic key for A: \", Ra)\n",
    "    print(\"Public Key for B: \", Rb)\n",
    "    \n",
    "    #Exchanging Calculated Values\n",
    "    Ka = pow(Rb, a) % g #A has access to B's Public Key and A's Private Key\n",
    "    Kb = pow(Ra, b) % g #B has access to A's Public Key and B's Private Key\n",
    "    \n",
    "    print(\"\\nSymmitric key for A: \", Ka) \n",
    "    print(\"symmitric key for B: \", Kb)\n",
    "    \n",
    "    assert(Ka == Kb)"
   ]
  },
  {
   "cell_type": "code",
   "execution_count": 3,
   "id": "2db4a2e6",
   "metadata": {},
   "outputs": [
    {
     "name": "stdout",
     "output_type": "stream",
     "text": [
      "Enter Base: 11\n",
      "Enter Modulo: 13\n",
      "\n",
      "Diffie-Hellman Key Exchange:\n",
      "\n",
      "Base:  11\n",
      "Modulo:  13\n",
      "\n",
      "Private key for A:  15\n",
      "Private key for B:  313\n",
      "\n",
      "Public key for A:  5\n",
      "Public Key for B:  11\n",
      "\n",
      "Symmitric key for A:  5\n",
      "symmitric key for B:  5\n"
     ]
    }
   ],
   "source": [
    "generate(\n",
    "    int(input(\"Enter Base: \")),\n",
    "    int(input(\"Enter Modulo: \"))\n",
    ") "
   ]
  }
 ],
 "metadata": {
  "kernelspec": {
   "display_name": "Python 3",
   "language": "python",
   "name": "python3"
  },
  "language_info": {
   "codemirror_mode": {
    "name": "ipython",
    "version": 3
   },
   "file_extension": ".py",
   "mimetype": "text/x-python",
   "name": "python",
   "nbconvert_exporter": "python",
   "pygments_lexer": "ipython3",
   "version": "3.8.8"
  }
 },
 "nbformat": 4,
 "nbformat_minor": 5
}
