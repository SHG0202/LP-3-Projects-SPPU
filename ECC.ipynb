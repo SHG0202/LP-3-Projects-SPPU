{
 "cells": [
  {
   "cell_type": "code",
   "execution_count": 1,
   "id": "779d7f4b",
   "metadata": {},
   "outputs": [],
   "source": [
    "import math\n",
    "import random"
   ]
  },
  {
   "cell_type": "code",
   "execution_count": 2,
   "id": "7b8248a9",
   "metadata": {},
   "outputs": [],
   "source": [
    "def point(a, b):\n",
    "    if ((4*(a**3) + 16*(b**2)) != 0):\n",
    "        x = 1\n",
    "        print(\"Generating : \\n\")\n",
    "        while True:\n",
    "            rhs = (x**3) + (a*x) + b\n",
    "            y = int(math.sqrt(rhs))\n",
    "            lhs = y*y\n",
    "        \n",
    "            if lhs == rhs:\n",
    "                return [x,y]\n",
    "            else:\n",
    "                x += 1\n",
    "    else:\n",
    "        print(\"Enter Another Co-efficients !!\")"
   ]
  },
  {
   "cell_type": "code",
   "execution_count": 3,
   "id": "3df9348d",
   "metadata": {},
   "outputs": [
    {
     "name": "stdout",
     "output_type": "stream",
     "text": [
      "Enter the coefficient 'a' of curve: 3\n",
      "Enter the coefficient 'b' of curve: 4\n",
      "\n",
      "Private_A =  10\n",
      "Private_B =  64\n",
      "Generating : \n",
      "\n",
      "Generator Points :  [5, 12]\n"
     ]
    }
   ],
   "source": [
    "a = int(input(\"Enter the coefficient 'a' of curve: \"))\n",
    "b = int(input(\"Enter the coefficient 'b' of curve: \"))\n",
    "\n",
    "private_A = random.randint(2, 100)\n",
    "private_B = random.randint(2, 100)\n",
    "print(\"\\nPrivate_A = \", private_A)\n",
    "print(\"Private_B = \", private_B)\n",
    "\n",
    "generator = point(a, b)\n",
    "print(\"Generator Points : \", generator)"
   ]
  },
  {
   "cell_type": "code",
   "execution_count": 4,
   "id": "85bc5787",
   "metadata": {},
   "outputs": [
    {
     "name": "stdout",
     "output_type": "stream",
     "text": [
      "Enter the plaintext integer : 111\n",
      "\n",
      "Public Key of A:  [50, 120]\n",
      "Public Key of B:  [320, 768]\n",
      "\n",
      "Ciphertext:  [119, 7727]\n",
      "Decrypted Plaintext:  111\n"
     ]
    }
   ],
   "source": [
    "m = int(input(\"Enter the plaintext integer : \"))\n",
    "\n",
    "public_key_A = [private_A*generator[0], private_A*generator[1]]\n",
    "print(\"\\nPublic Key of A: \", public_key_A)\n",
    "\n",
    "public_key_B = [private_B*generator[0], private_B*generator[1]]\n",
    "print(\"Public Key of B: \", public_key_B)\n",
    "\n",
    "#Encryption\n",
    "k = random.randint(0, 10)\n",
    "\n",
    "c1 = k * (generator[0] + generator[1])\n",
    "c2 = m + k*(public_key_B[0] + public_key_B[1])\n",
    "ciphertext = [c1, c2]\n",
    "\n",
    "print(\"\\nCiphertext: \", ciphertext)\n",
    "\n",
    "#Decription\n",
    "r = private_B * c1\n",
    "plaintext = c2 - r\n",
    "print(\"Decrypted Plaintext: \", plaintext)"
   ]
  }
 ],
 "metadata": {
  "kernelspec": {
   "display_name": "Python 3",
   "language": "python",
   "name": "python3"
  },
  "language_info": {
   "codemirror_mode": {
    "name": "ipython",
    "version": 3
   },
   "file_extension": ".py",
   "mimetype": "text/x-python",
   "name": "python",
   "nbconvert_exporter": "python",
   "pygments_lexer": "ipython3",
   "version": "3.8.8"
  }
 },
 "nbformat": 4,
 "nbformat_minor": 5
}
