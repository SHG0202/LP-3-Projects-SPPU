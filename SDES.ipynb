{
 "cells": [
  {
   "cell_type": "code",
   "execution_count": 1,
   "id": "b12f0d10",
   "metadata": {},
   "outputs": [],
   "source": [
    "import random"
   ]
  },
  {
   "cell_type": "code",
   "execution_count": 2,
   "id": "1b440b4a",
   "metadata": {},
   "outputs": [],
   "source": [
    "#Initialise \n",
    "P10 = [7, 3, 6, 1, 10, 4, 2, 5, 8, 9]\n",
    "P8 = [1, 4, 2, 6, 7, 3, 10, 8]\n",
    "IP = [3, 8, 1, 5, 4, 2, 6, 7]\n",
    "IP_INV = [3, 6, 1, 5, 4, 7, 8, 2]\n",
    "EP = [2, 4, 3, 1, 2, 4, 3, 1]\n",
    "S0 = [\n",
    "    [1, 0, 3, 2],\n",
    "    [3, 2, 1, 0],\n",
    "    [0, 2, 1, 3],\n",
    "    [3, 1, 3, 2]\n",
    "]\n",
    "S1 = [\n",
    "    [0, 1, 2, 3],\n",
    "    [2, 0, 1, 3],\n",
    "    [3, 0, 1, 0],\n",
    "    [2, 1, 0, 3]\n",
    "]"
   ]
  },
  {
   "cell_type": "code",
   "execution_count": 3,
   "id": "46304513",
   "metadata": {},
   "outputs": [],
   "source": [
    "#Conversion\n",
    "def bin_to_dec(x):\n",
    "  return int(x, 2)\n",
    "def dec_to_bin(x):\n",
    "  return bin(x).replace(\"0b\",\"\")\n",
    "\n",
    "#Left Shift\n",
    "def left_circular_shift(x, shifts=1):\n",
    "  shifts = shifts % len(x)\n",
    "  return x[shifts:] + x[:shifts]\n",
    "\n",
    "#Permute based on Initialization\n",
    "def permutate(key, perm):\n",
    "  ret = \"\"\n",
    "  for k in perm:\n",
    "    ret += key[k-1]\n",
    "  return ret\n",
    "\n",
    "#Split String\n",
    "def split_str(key):\n",
    "  half = len(key)//2\n",
    "  key1 = key[:half]\n",
    "  key2 = key[half:]\n",
    "  return key1, key2\n",
    "\n",
    "#Xor Bianry\n",
    "def xor(a, b):\n",
    "  ret = \"\"\n",
    "  for i in range(len(a)):\n",
    "    if a[i] == b[i]: ret += \"0\"\n",
    "    else: ret += \"1\"\n",
    "  return ret"
   ]
  },
  {
   "cell_type": "markdown",
   "id": "3b0d3e11",
   "metadata": {},
   "source": [
    "### Procedure"
   ]
  },
  {
   "cell_type": "code",
   "execution_count": 4,
   "id": "d0e0ebdc",
   "metadata": {},
   "outputs": [],
   "source": [
    "def gen_subkeys(key):\n",
    "  n_key = permutate(key, P10)\n",
    "\n",
    "  left_key, right_key = split_str(n_key)\n",
    "\n",
    "  left_key = left_circular_shift(left_key, 1)\n",
    "  right_key = left_circular_shift(right_key, 1)\n",
    "\n",
    "  k1 = permutate(left_key + right_key, P8)\n",
    "\n",
    "  left_key = left_circular_shift(left_key, 2)\n",
    "  right_key = left_circular_shift(right_key, 2)\n",
    "\n",
    "  k2 = permutate(left_key + right_key, P8)\n",
    "\n",
    "  return k1, k2"
   ]
  },
  {
   "cell_type": "code",
   "execution_count": 5,
   "id": "4bbc326b",
   "metadata": {},
   "outputs": [],
   "source": [
    "#S-Box\n",
    "def s_box(text, s):\n",
    "  r = text[0] + text[3]\n",
    "  c = text[1] + text[2]\n",
    "\n",
    "  r = bin_to_dec(r)\n",
    "  c = bin_to_dec(c)\n",
    "  out = s[r][c]\n",
    "  out = dec_to_bin(out)\n",
    "  while len(out) < 2:\n",
    "    out = \"0\" + out\n",
    "  return out\n",
    "\n",
    "\n",
    "#Function\n",
    "def function(left, right, subkey):\n",
    "  text = right\n",
    "  text = permutate(text, EP)\n",
    "  text = xor(text, subkey)\n",
    "  text_left, text_right = split_str(text)\n",
    "  text = s_box(text_left, S0) + s_box(text_right, S1)\n",
    "  text = xor(text, left)\n",
    "  return text, right"
   ]
  },
  {
   "cell_type": "code",
   "execution_count": 6,
   "id": "d205a587",
   "metadata": {},
   "outputs": [],
   "source": [
    "def encryption(plaintext, key):\n",
    "  k1, k2 = gen_subkeys(key)\n",
    "\n",
    "  ciphertext = permutate(plaintext, IP)\n",
    "\n",
    "  left, right = split_str(ciphertext)\n",
    "  left, right = function(left, right, k1)\n",
    "\n",
    "  left, right = right, left\n",
    "\n",
    "  left, right = function(left, right, k2)\n",
    "\n",
    "  ciphertext = permutate(left + right, IP_INV)\n",
    "\n",
    "  return ciphertext"
   ]
  },
  {
   "cell_type": "code",
   "execution_count": 7,
   "id": "fb4fed19",
   "metadata": {},
   "outputs": [],
   "source": [
    "def decryption(ciphertext, key):\n",
    "  k1, k2 = gen_subkeys(key)\n",
    "\n",
    "  plaintext = permutate(ciphertext, IP)\n",
    "\n",
    "  left, right = split_str(plaintext)\n",
    "  left, right = function(left, right, k2)\n",
    "\n",
    "  left, right = right, left\n",
    "\n",
    "  left, right = function(left, right, k1)\n",
    "\n",
    "  plaintext = permutate(left + right, IP_INV)\n",
    "\n",
    "  return plaintext"
   ]
  },
  {
   "cell_type": "code",
   "execution_count": 8,
   "id": "49a612c5",
   "metadata": {},
   "outputs": [
    {
     "name": "stdout",
     "output_type": "stream",
     "text": [
      "Enter 10 bit key: 1010001011\n",
      "Enter 8 bit Plain Text: 10001010\n",
      "\n",
      "Encrypted Test is :  00001110\n",
      "\n",
      "Decrypted Text is :  10001010\n"
     ]
    }
   ],
   "source": [
    "key = input(\"Enter 10 bit key: \")\n",
    "plaintext = input(\"Enter 8 bit Plain Text: \")\n",
    "\n",
    "c = encryption(plaintext, key)\n",
    "print(\"\\nEncrypted Test is : \", c)\n",
    "p = decryption(c, key)\n",
    "print(\"\\nDecrypted Text is : \", p)\n",
    "\n",
    "assert(plaintext == p)"
   ]
  }
 ],
 "metadata": {
  "kernelspec": {
   "display_name": "Python 3",
   "language": "python",
   "name": "python3"
  },
  "language_info": {
   "codemirror_mode": {
    "name": "ipython",
    "version": 3
   },
   "file_extension": ".py",
   "mimetype": "text/x-python",
   "name": "python",
   "nbconvert_exporter": "python",
   "pygments_lexer": "ipython3",
   "version": "3.8.8"
  }
 },
 "nbformat": 4,
 "nbformat_minor": 5
}
