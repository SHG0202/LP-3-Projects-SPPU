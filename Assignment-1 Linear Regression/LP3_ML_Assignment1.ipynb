{
 "cells": [
  {
   "cell_type": "code",
   "execution_count": 1,
   "id": "870d1c56",
   "metadata": {},
   "outputs": [],
   "source": [
    "import numpy as np\n",
    "import pandas as pd\n",
    "import matplotlib.pyplot as plt"
   ]
  },
  {
   "cell_type": "code",
   "execution_count": 2,
   "id": "e31eee6c",
   "metadata": {},
   "outputs": [],
   "source": [
    "x = np.array([10, 9, 2, 15, 10, 16, 11, 16])\n",
    "y = np.array([95, 80, 10, 50, 45, 98, 38, 93])"
   ]
  },
  {
   "cell_type": "code",
   "execution_count": 3,
   "id": "3b91c2d6",
   "metadata": {},
   "outputs": [
    {
     "data": {
      "text/plain": [
       "<matplotlib.collections.PathCollection at 0x247eec1e070>"
      ]
     },
     "execution_count": 3,
     "metadata": {},
     "output_type": "execute_result"
    },
    {
     "data": {
      "image/png": "[encoded data removed]",
      "text/plain": [
       "<Figure size 432x288 with 1 Axes>"
      ]
     },
     "metadata": {
      "needs_background": "light"
     },
     "output_type": "display_data"
    }
   ],
   "source": [
    "plt.xlabel('No of hours')\n",
    "plt.ylabel('Risk Score')\n",
    "plt.scatter(x,y,color='red',marker='+')"
   ]
  },
  {
   "cell_type": "code",
   "execution_count": 4,
   "id": "8aff6ca6",
   "metadata": {},
   "outputs": [],
   "source": [
    "def getCoef(x,y):\n",
    "    #mean of x and y\n",
    "    mean_x = np.mean(x)\n",
    "    mean_y = np.mean(y)\n",
    "    \n",
    "    #Total no of values\n",
    "    n = len(x)\n",
    "    \n",
    "    # formula to calculate b1 and b2\n",
    "    numer = 0\n",
    "    denom = 0\n",
    "    for i in range(n):\n",
    "        numer += (x[i] - mean_x) * (y[i] - mean_y)\n",
    "        denom += (x[i] - mean_x) ** 2\n",
    "    a1 = numer / denom\n",
    "    a0 = mean_y - (a1 * mean_x)\n",
    "    \n",
    "    return(a0, a1)"
   ]
  },
  {
   "cell_type": "code",
   "execution_count": 5,
   "id": "01fb2ecc",
   "metadata": {},
   "outputs": [
    {
     "name": "stdout",
     "output_type": "stream",
     "text": [
      "Coefficients\n",
      "12.584627964022893\n",
      "4.58789860997547\n"
     ]
    }
   ],
   "source": [
    "coefs_ = getCoef(x,y)\n",
    "print(\"Coefficients\")\n",
    "print(coefs_[0])\n",
    "print(coefs_[1])"
   ]
  },
  {
   "cell_type": "markdown",
   "id": "3c7d900c",
   "metadata": {},
   "source": [
    "## Straight line Equation"
   ]
  },
  {
   "cell_type": "markdown",
   "id": "02dcea57",
   "metadata": {},
   "source": [
    "### y = a0 + a1 * x "
   ]
  },
  {
   "cell_type": "code",
   "execution_count": 6,
   "id": "740b38ad",
   "metadata": {},
   "outputs": [
    {
     "data": {
      "text/plain": [
       "[<matplotlib.lines.Line2D at 0x247ef3a3b80>]"
      ]
     },
     "execution_count": 6,
     "metadata": {},
     "output_type": "execute_result"
    },
    {
     "data": {
      "image/png": "[encoded data removed]",
      "text/plain": [
       "<Figure size 432x288 with 1 Axes>"
      ]
     },
     "metadata": {
      "needs_background": "light"
     },
     "output_type": "display_data"
    }
   ],
   "source": [
    "plt.xlabel('No of hours')\n",
    "plt.ylabel('Risk Score')\n",
    "plt.scatter(x,y,color='red',marker='+')\n",
    "y_pred = coefs_[0] + coefs_[1]*x\n",
    "plt.plot(x, y_pred, color = \"b\")"
   ]
  }
 ],
 "metadata": {
  "kernelspec": {
   "display_name": "Python 3",
   "language": "python",
   "name": "python3"
  },
  "language_info": {
   "codemirror_mode": {
    "name": "ipython",
    "version": 3
   },
   "file_extension": ".py",
   "mimetype": "text/x-python",
   "name": "python",
   "nbconvert_exporter": "python",
   "pygments_lexer": "ipython3",
   "version": "3.8.8"
  }
 },
 "nbformat": 4,
 "nbformat_minor": 5
}
